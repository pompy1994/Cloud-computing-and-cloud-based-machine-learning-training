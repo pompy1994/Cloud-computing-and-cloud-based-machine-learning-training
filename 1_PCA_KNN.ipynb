{
 "cells": [
  {
   "cell_type": "markdown",
   "metadata": {},
   "source": [
    "# COMP5349 Cloud Computing Assignment 2"
   ]
  },
  {
   "cell_type": "markdown",
   "metadata": {},
   "source": [
    "## Stage One: KNN Classifier"
   ]
  },
  {
   "cell_type": "code",
   "execution_count": null,
   "metadata": {},
   "outputs": [],
   "source": [
    "# Import all necessary libraries and setup the environment for matplotlib\n",
    "%matplotlib inline\n",
    "import findspark\n",
    "findspark.init()\n",
    "from pyspark import SparkContext, SparkConf\n",
    "from pyspark.sql import SparkSession\n",
    "from pyspark.ml.feature import PCA\n",
    "#from pyspark.ml.clustering import KMeans\n",
    "from pyspark.ml.linalg import Vectors\n",
    "from pyspark.ml.feature import VectorAssembler\n",
    "import numpy as np\n",
    "import matplotlib.pyplot as plt\n",
    "from numpy import *\n",
    "import operator\n",
    "import csv\n",
    "from sklearn.metrics import precision_recall_fscore_support as score\n",
    "import time"
   ]
  },
  {
   "cell_type": "code",
   "execution_count": null,
   "metadata": {},
   "outputs": [],
   "source": [
    "spark = SparkSession \\\n",
    "    .builder \\\n",
    "    .appName(\"Python Spark Machine Learning\") \\\n",
    "    .config('spark.executor', 4) \\\n",
    "    .getOrCreate()\n",
    "sc = spark.sparkContext\n",
    "\n",
    "starttime=time.time()\n",
    "\n",
    "# csv    \n",
    "train_datafile = \"file:///home/stone/Train-label-28x28.csv\"\n",
    "test_datafile = \"file:///home/stone/Test-label-28x28.csv\"\n",
    "\n",
    "\n",
    "train_df = spark.read.csv(train_datafile,inferSchema=\"true\")\n",
    "test_df = spark.read.csv(test_datafile,inferSchema=\"true\")"
   ]
  },
  {
   "cell_type": "code",
   "execution_count": null,
   "metadata": {},
   "outputs": [],
   "source": [
    "\n",
    "train_label_assembler = VectorAssembler(inputCols=train_df.columns[0:1],\n",
    "    outputCol=\"features\")\n",
    "\n",
    "train_assembler = VectorAssembler(inputCols=train_df.columns[1:],\n",
    "    outputCol=\"features\")\n",
    "\n",
    "train_label_vectors = train_label_assembler.transform(train_df).select(\"features\")\n",
    "train_vectors = train_assembler.transform(train_df).select(\"features\")\n",
    "\n",
    "\n",
    "test_label_assembler = VectorAssembler(inputCols=test_df.columns[0:1],\n",
    "    outputCol=\"features\")\n",
    "\n",
    "test_assembler = VectorAssembler(inputCols=test_df.columns[1:],\n",
    "    outputCol=\"features\")\n",
    "\n",
    "test_label_vectors = test_label_assembler.transform(test_df).select(\"features\")\n",
    "test_vectors = test_assembler.transform(test_df).select(\"features\")"
   ]
  },
  {
   "cell_type": "code",
   "execution_count": null,
   "metadata": {},
   "outputs": [],
   "source": [
    "pca = PCA(k=50, inputCol=\"features\", outputCol=\"pca\")\n",
    "model = pca.fit(train_vectors)\n",
    "pca_result = model.transform(train_vectors).select('pca')\n",
    "test_pca_result = model.transform(test_vectors).select('pca')"
   ]
  },
  {
   "cell_type": "code",
   "execution_count": null,
   "metadata": {},
   "outputs": [],
   "source": [
    "local_pca=np.array(pca_result.collect())#train data\n",
    "local_label=np.array(train_label_vectors.collect())#train label\n",
    "\n",
    "test_local_pca=np.array(test_pca_result.collect())#test data\n",
    "test_local_label=np.array(test_label_vectors.collect())#test label"
   ]
  },
  {
   "cell_type": "code",
   "execution_count": null,
   "metadata": {},
   "outputs": [],
   "source": [
    "local_pca=local_pca.reshape((60000,50))\n",
    "local_label=local_label.reshape((60000,1))\n",
    "local_label=local_label[:,0]\n",
    "\n",
    "test_local_pca=test_local_pca.reshape((10000,50))\n",
    "test_local_label=test_local_label.reshape((10000,1))\n",
    "test_local_label=test_local_label[:,0]"
   ]
  },
  {
   "cell_type": "code",
   "execution_count": null,
   "metadata": {},
   "outputs": [],
   "source": [
    "test_data_pca_rdd = sc.parallelize(test_local_pca)"
   ]
  },
  {
   "cell_type": "code",
   "execution_count": null,
   "metadata": {},
   "outputs": [],
   "source": [
    "def KNNFunction(inX):\n",
    "    #inX = test_local_pca\n",
    "    \n",
    "    global count\n",
    "    global tmplabel\n",
    "    classCount = {}\n",
    "    dataset = local_pca\n",
    "    labels = local_label\n",
    "    k = 10\n",
    "\n",
    "    dataSetSize = dataset.shape[0]\n",
    "\n",
    "    diffMat = tile(inX, (dataSetSize, 1)) - dataset\n",
    "    sqDiffMat = diffMat ** 2\n",
    "    sqDistance = sqDiffMat.sum(axis=1)\n",
    "    print(type(sqDistance))\n",
    "    distance = sqDistance ** 0.5\n",
    "    print(type(distance))\n",
    "    \n",
    "    sortedDistIndicies = distance.argsort()\n",
    "    print(type(sortedDistIndicies))\n",
    "    \n",
    "    for i in range(k):\n",
    "        voteIlabel = labels[sortedDistIndicies[i]]\n",
    "        classCount[voteIlabel] = classCount.get(voteIlabel, 0) + 1\n",
    "        \n",
    "    sortedClassCount = sorted(classCount.items(), key=operator.itemgetter(1), reverse=True)\n",
    "    \n",
    "    return int(round(sortedClassCount[0][0]))"
   ]
  },
  {
   "cell_type": "code",
   "execution_count": null,
   "metadata": {},
   "outputs": [],
   "source": [
    "gain_label_rdd = test_data_pca_rdd.map(KNNFunction)"
   ]
  },
  {
   "cell_type": "code",
   "execution_count": null,
   "metadata": {},
   "outputs": [],
   "source": [
    "gain_label = gain_label_rdd.collect()"
   ]
  },
  {
   "cell_type": "code",
   "execution_count": null,
   "metadata": {},
   "outputs": [],
   "source": [
    "type(gain_label)"
   ]
  },
  {
   "cell_type": "code",
   "execution_count": null,
   "metadata": {},
   "outputs": [],
   "source": [
    "for i in range(10):\n",
    "    TP = FP = TN = FN = 0\n",
    "    \n",
    "    for j in range(10000):\n",
    "        test_label = test_local_label[j]\n",
    "        g_label = gain_label[j]\n",
    "        \n",
    "        if i == g_label:\n",
    "            if g_label == test_label:\n",
    "                TP += 1\n",
    "            else:\n",
    "                FP += 1\n",
    "        else:\n",
    "            if g_label == test_label:\n",
    "                TN += 1\n",
    "            else:\n",
    "                FN += 1\n",
    "    if (TP+FP) != 0:\n",
    "        P = TP / (TP + FP)\n",
    "    else:\n",
    "        P = 0\n",
    "        \n",
    "    if (TP+FN) != 0:\n",
    "        R = TP/(TP+FN)\n",
    "    else:\n",
    "        R = 0\n",
    "        \n",
    "    A = (TP+TN)/10000\n",
    "    \n",
    "    f1_score = 2*P*R/(P+R)\n",
    "    \n",
    "    print('%d: precision: %.2f%%'%(i, (P*100)))\n",
    "    print('%d: accuracy: %.2f%%'%(i, (A*100)))\n",
    "    print('%d: recall: %.2f%%'%(i, (R*100)))\n",
    "    print('%d: f1_score: %.2f%%\\n'%(i, (f1_score*100)))"
   ]
  },
  {
   "cell_type": "code",
   "execution_count": null,
   "metadata": {},
   "outputs": [],
   "source": [
    "endtime=time.time()\n",
    "print(\"time:\", endtime-starttime, \"s\")"
   ]
  },
  {
   "cell_type": "code",
   "execution_count": null,
   "metadata": {},
   "outputs": [],
   "source": [
    "spark.close()"
   ]
  }
 ],
 "metadata": {
  "kernelspec": {
   "display_name": "Python 3",
   "language": "python",
   "name": "python3"
  },
  "language_info": {
   "codemirror_mode": {
    "name": "ipython",
    "version": 3
   },
   "file_extension": ".py",
   "mimetype": "text/x-python",
   "name": "python",
   "nbconvert_exporter": "python",
   "pygments_lexer": "ipython3",
   "version": "3.6.4"
  }
 },
 "nbformat": 4,
 "nbformat_minor": 2
}
