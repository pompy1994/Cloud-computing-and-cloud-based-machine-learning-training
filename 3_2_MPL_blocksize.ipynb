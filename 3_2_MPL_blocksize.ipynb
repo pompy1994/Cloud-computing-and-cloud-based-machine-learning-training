{
 "cells": [
  {
   "cell_type": "code",
   "execution_count": null,
   "metadata": {},
   "outputs": [],
   "source": [
    "import findspark\n",
    "findspark.init()\n",
    "from pyspark.sql import SparkSession\n",
    "from pyspark.sql.functions import col\n",
    "from pyspark.ml.feature import PCA\n",
    "from pyspark.ml.clustering import KMeans\n",
    "from pyspark.ml.linalg import Vectors\n",
    "from pyspark.ml.feature import VectorAssembler\n",
    "import numpy as np\n",
    "import matplotlib.pyplot as plt\n",
    "from numpy import *\n",
    "import operator\n",
    "import csv\n",
    "\n",
    "from pyspark.ml import Pipeline\n",
    "from pyspark.ml.classification import RandomForestClassifier\n",
    "from pyspark.ml.feature import IndexToString, StringIndexer, VectorIndexer\n",
    "from pyspark.ml.evaluation import MulticlassClassificationEvaluator\n",
    "# $example off$\n",
    "from pyspark.sql import SparkSession\n",
    "from pyspark.ml.classification import MultilayerPerceptronClassifier\n",
    "from pyspark.ml.evaluation import MulticlassClassificationEvaluator"
   ]
  },
  {
   "cell_type": "code",
   "execution_count": null,
   "metadata": {},
   "outputs": [],
   "source": [
    "spark = SparkSession\\\n",
    "    .builder\\\n",
    "    .appName(\"RandomForestClassifierExample\")\\\n",
    "    .getOrCreate()\n",
    "\n",
    "train_datafile = \"file:///home/stone/Train-label-28x28.csv\"\n",
    "test_datafile = \"file:///home/stone/Test-label-28x28.csv\"\n",
    "\n",
    "train_df = spark.read.csv(train_datafile,inferSchema=\"true\")\n",
    "test_df = spark.read.csv(test_datafile,inferSchema=\"true\")"
   ]
  },
  {
   "cell_type": "code",
   "execution_count": null,
   "metadata": {},
   "outputs": [],
   "source": [
    "layers = [784, 100, 10]\n",
    "trainer = MultilayerPerceptronClassifier(maxIter=100, layers=layers, blockSize=30, seed=1234)"
   ]
  },
  {
   "cell_type": "code",
   "execution_count": null,
   "metadata": {},
   "outputs": [],
   "source": [
    "train_assembler = VectorAssembler(inputCols=train_df.columns[1:],\n",
    "    outputCol=\"features\")\n",
    "train_vectors = train_assembler.transform(train_df).select(col(train_df.columns[0]).alias(\"label\"),\"features\")\n",
    "train_vectors.show(5)"
   ]
  },
  {
   "cell_type": "code",
   "execution_count": null,
   "metadata": {},
   "outputs": [],
   "source": [
    "test_assembler = VectorAssembler(inputCols = test_df.columns[1:], outputCol=\"features\")\n",
    "test_vectors = test_assembler.transform(test_df).select(col(train_df.columns[0]).alias(\"label\"), \"features\")\n",
    "test_vectors.show(5)"
   ]
  },
  {
   "cell_type": "code",
   "execution_count": null,
   "metadata": {},
   "outputs": [],
   "source": [
    "model = trainer.fit(train_vectors)\n",
    "test_result = model.transform(test_vectors)\n",
    "test_result.show(5)"
   ]
  },
  {
   "cell_type": "code",
   "execution_count": null,
   "metadata": {},
   "outputs": [],
   "source": [
    "evaluator = MulticlassClassificationEvaluator(labelCol=\"label\", predictionCol=\"prediction\", metricName=\"accuracy\")\n",
    "accuracy = evaluator.evaluate(test_result)\n",
    "print(\"Test Error = %g\" % (1.0 - accuracy))\n",
    "print(\"args:\",layers)\n",
    "print(\"Accuracy:\",accuracy)"
   ]
  }
 ],
 "metadata": {
  "kernelspec": {
   "display_name": "Python 3",
   "language": "python",
   "name": "python3"
  },
  "language_info": {
   "codemirror_mode": {
    "name": "ipython",
    "version": 3
   },
   "file_extension": ".py",
   "mimetype": "text/x-python",
   "name": "python",
   "nbconvert_exporter": "python",
   "pygments_lexer": "ipython3",
   "version": "3.6.4"
  }
 },
 "nbformat": 4,
 "nbformat_minor": 2
}
